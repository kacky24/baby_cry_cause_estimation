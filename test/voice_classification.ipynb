{
 "cells": [
  {
   "cell_type": "code",
   "execution_count": 16,
   "metadata": {},
   "outputs": [],
   "source": [
    "% matplotlib inline\n",
    "\n",
    "from scikits.talkbox.features import mfcc\n",
    "import numpy as np\n",
    "import scipy as sp\n",
    "import matplotlib.pyplot as plt\n",
    "import soundfile as sf\n",
    "import pyaudio as pa\n",
    "import os\n",
    "\n",
    "random_state=24"
   ]
  },
  {
   "cell_type": "markdown",
   "metadata": {},
   "source": [
    "音声ファイルimport"
   ]
  },
  {
   "cell_type": "code",
   "execution_count": 3,
   "metadata": {},
   "outputs": [],
   "source": [
    "files = []\n",
    "datapath = 'devided_wav_data/'\n",
    "\n",
    "for x in os.listdir(datapath):  \n",
    "    if '.wav' in x:\n",
    "        files.append(x)"
   ]
  },
  {
   "cell_type": "markdown",
   "metadata": {},
   "source": [
    "各クラスのデータ数をそろえる"
   ]
  },
  {
   "cell_type": "code",
   "execution_count": 59,
   "metadata": {},
   "outputs": [],
   "source": [
    "hu_count = 0\n",
    "ti_count = 0\n",
    "improved_files = []\n",
    "for f in files:\n",
    "    if '-hu.' in f:\n",
    "        if hu_count < 18:\n",
    "            hu_count += 1\n",
    "            improved_files.append(f)\n",
    "    elif '-ti.' in f:\n",
    "        if ti_count < 18:\n",
    "            ti_count += 1\n",
    "            improved_files.append(f)\n",
    "    else:\n",
    "        improved_files.append(f)\n",
    "\n",
    "del files\n",
    "files = improved_files"
   ]
  },
  {
   "cell_type": "markdown",
   "metadata": {},
   "source": [
    "mfccで特徴量とラベルのセット作成"
   ]
  },
  {
   "cell_type": "code",
   "execution_count": 4,
   "metadata": {},
   "outputs": [],
   "source": [
    "label_dict = {'hu':0, 'ti':1, 'dc':2}\n",
    "\n",
    "X = []\n",
    "y = []\n",
    "x_seq = []\n",
    "for f in files:\n",
    "    x, sample_rate = sf.read(datapath + f)\n",
    "    x_seq.append(x)\n",
    "    x = np.clip(x, 1e-10, 1)\n",
    "    ceps,mspec,spec = mfcc(x, nwin=256, nfft=512, fs=8000, nceps=13)\n",
    "    X.append(np.mean(ceps, axis=0))\n",
    "    if '-hu.' in f:\n",
    "        y.append(label_dict['hu'])\n",
    "    elif '-ti.' in f:\n",
    "        y.append(label_dict['ti'])\n",
    "    else:\n",
    "        y.append(label_dict['dc'])\n",
    "\n",
    "X = np.array(X)\n",
    "y = np.array(y)"
   ]
  },
  {
   "cell_type": "markdown",
   "metadata": {},
   "source": [
    "welchメソッドによるパワースペクトルで特徴量とラベルのセット作成"
   ]
  },
  {
   "cell_type": "code",
   "execution_count": 147,
   "metadata": {},
   "outputs": [],
   "source": [
    "import scipy.signal\n",
    "\n",
    "label_dict = {'hu':0, 'ti':1, 'dc':2}\n",
    "\n",
    "X = []\n",
    "y = []\n",
    "\n",
    "fs = 8000\n",
    "nperseg = 128\n",
    "nfft=1024\n",
    "for f in files:\n",
    "    x, sample_rate = sf.read(datapath + f)\n",
    "    freq, P = scipy.signal.welch(x, fs, window='hamming', nperseg=nperseg, nfft=nfft)\n",
    "    X.append(P)\n",
    "    if '-hu.' in f:\n",
    "        y.append(label_dict['hu'])\n",
    "    elif '-ti.' in f:\n",
    "        y.append(label_dict['ti'])\n",
    "    else:\n",
    "        y.append(label_dict['dc'])\n",
    "\n",
    "X = np.array(X)\n",
    "y = np.array(y)"
   ]
  },
  {
   "cell_type": "code",
   "execution_count": 150,
   "metadata": {},
   "outputs": [],
   "source": [
    "# 圧縮\n",
    "from sklearn.decomposition import PCA\n",
    "pca = PCA(n_components=13, random_state=random_state)\n",
    "X = pca.fit_transform(X)"
   ]
  },
  {
   "cell_type": "markdown",
   "metadata": {},
   "source": [
    "分類器で学習、評価"
   ]
  },
  {
   "cell_type": "code",
   "execution_count": 17,
   "metadata": {},
   "outputs": [],
   "source": [
    "from sklearn.ensemble import RandomForestClassifier\n",
    "from sklearn.svm import LinearSVC, SVC\n",
    "from xgboost import XGBClassifier\n",
    "from sklearn.model_selection import StratifiedKFold\n",
    "from sklearn.metrics import precision_score, recall_score, f1_score\n",
    "\n",
    "precision = 0\n",
    "recall = 0\n",
    "f_value = 0\n",
    "\n",
    "n_splits = 5\n",
    "\n",
    "skf = StratifiedKFold(n_splits=n_splits, random_state=random_state, shuffle=True)\n",
    "for train_index, test_index in skf.split(X, y):\n",
    "    X_train, X_valid = X[train_index], X[test_index]\n",
    "    y_train, y_valid = y[train_index], y[test_index]\n",
    "    #clf = LinearSVC(random_state=random_state)\n",
    "    clf = RandomForestClassifier(n_estimators=498, random_state=random_state)\n",
    "    # clf = XGBClassifier(max_depth=8, learning_rate=0.05, n_estimators=700, seed=random_state)\n",
    "    clf.fit(X_train, y_train)\n",
    "    pred = clf.predict(X_valid)\n",
    "    precision += precision_score(y_valid, pred, average='macro')\n",
    "    recall += recall_score(y_valid, pred, average='macro')\n",
    "    f_value += f1_score(y_valid, pred, average='macro')\n",
    "\n",
    "precision = precision / float(n_splits)\n",
    "recall = recall / float(n_splits)\n",
    "f_value = f_value / float(n_splits)"
   ]
  },
  {
   "cell_type": "code",
   "execution_count": 18,
   "metadata": {},
   "outputs": [
    {
     "data": {
      "text/plain": [
       "0.63166320008344501"
      ]
     },
     "execution_count": 18,
     "metadata": {},
     "output_type": "execute_result"
    }
   ],
   "source": [
    "precision"
   ]
  },
  {
   "cell_type": "code",
   "execution_count": 19,
   "metadata": {},
   "outputs": [
    {
     "data": {
      "text/plain": [
       "0.59297760754672857"
      ]
     },
     "execution_count": 19,
     "metadata": {},
     "output_type": "execute_result"
    }
   ],
   "source": [
    "f_value"
   ]
  },
  {
   "cell_type": "code",
   "execution_count": 135,
   "metadata": {},
   "outputs": [
    {
     "data": {
      "text/plain": [
       "array([1, 1, 0, 0, 0, 2, 2, 1, 2, 0, 2, 0, 0, 0, 0, 0, 0, 1, 0, 1, 1, 2, 0,\n",
       "       0, 0, 1, 1, 2, 1, 1, 1, 2, 0, 2, 2, 0, 2, 1, 0])"
      ]
     },
     "execution_count": 135,
     "metadata": {},
     "output_type": "execute_result"
    }
   ],
   "source": [
    "pred"
   ]
  },
  {
   "cell_type": "code",
   "execution_count": 25,
   "metadata": {},
   "outputs": [
    {
     "data": {
      "text/plain": [
       "['clf_rf.pkl.cmp']"
      ]
     },
     "execution_count": 25,
     "metadata": {},
     "output_type": "execute_result"
    }
   ],
   "source": [
    "from sklearn.externals import joblib\n",
    "clf = RandomForestClassifier(n_estimators=498, random_state=random_state)\n",
    "clf.fit(X, y)\n",
    "joblib.dump(clf, 'clf_rf.pkl.cmp', compress=True)"
   ]
  },
  {
   "cell_type": "code",
   "execution_count": null,
   "metadata": {},
   "outputs": [],
   "source": []
  }
 ],
 "metadata": {
  "kernelspec": {
   "display_name": "Python 2",
   "language": "python",
   "name": "python2"
  },
  "language_info": {
   "codemirror_mode": {
    "name": "ipython",
    "version": 2
   },
   "file_extension": ".py",
   "mimetype": "text/x-python",
   "name": "python",
   "nbconvert_exporter": "python",
   "pygments_lexer": "ipython2",
   "version": "2.7.13"
  }
 },
 "nbformat": 4,
 "nbformat_minor": 2
}
