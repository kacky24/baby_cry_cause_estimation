{
 "cells": [
  {
   "cell_type": "code",
   "execution_count": 1,
   "metadata": {},
   "outputs": [],
   "source": [
    "import time\n",
    "import numpy as np\n",
    "import soundfile as sf\n",
    "import pyaudio as pa\n",
    "import wave"
   ]
  },
  {
   "cell_type": "code",
   "execution_count": 2,
   "metadata": {},
   "outputs": [],
   "source": [
    "# global\n",
    "xs = np.array([])\n",
    "\n",
    "\n",
    "def callback(in_data, frame_count, time_info, status):\n",
    "    global xs\n",
    "    in_float = np.frombuffer(in_data, dtype=np.int16).astype(np.float)\n",
    "    in_float[in_float > 0.0] /= float(2**15 - 1)\n",
    "    in_float[in_float <= 0.0] /= float(2**15)\n",
    "    xs = np.r_[xs, in_float]\n",
    "\n",
    "    return (in_data, pa.paContinue)"
   ]
  },
  {
   "cell_type": "code",
   "execution_count": 3,
   "metadata": {},
   "outputs": [],
   "source": [
    "# pyaudio\n",
    "p_in = pa.PyAudio()\n",
    "py_format = p_in.get_format_from_width(2)\n",
    "fs = 44100\n",
    "channels = 1\n",
    "chunk = 1024\n",
    "use_device_index = 0"
   ]
  },
  {
   "cell_type": "code",
   "execution_count": 4,
   "metadata": {},
   "outputs": [],
   "source": [
    "# 入力ストリームを作成\n",
    "in_stream = p_in.open(format=py_format,\n",
    "                          channels=channels,\n",
    "                          rate=fs,\n",
    "                          input=True,\n",
    "                          frames_per_buffer=chunk,\n",
    "                          input_device_index=use_device_index,\n",
    "                          stream_callback=callback)\n",
    "\n",
    "in_stream.start_stream()"
   ]
  },
  {
   "cell_type": "code",
   "execution_count": 5,
   "metadata": {},
   "outputs": [
    {
     "name": "stdout",
     "output_type": "stream",
     "text": [
      "j\n"
     ]
    }
   ],
   "source": [
    "# input loop\n",
    "# 何か入力したら終了\n",
    "while in_stream.is_active():\n",
    "    c = raw_input()\n",
    "    if c:\n",
    "        break\n",
    "    time.sleep(0.1)\n",
    "else:\n",
    "    in_stream.stop_stream()\n",
    "    in_stream.close()\n",
    "\n",
    "# 入力信号を保存\n",
    "sf.write(\"./pyaudio_output.wav\", xs, fs)\n",
    "\n",
    "p_in.terminate()"
   ]
  },
  {
   "cell_type": "code",
   "execution_count": null,
   "metadata": {},
   "outputs": [],
   "source": []
  }
 ],
 "metadata": {
  "kernelspec": {
   "display_name": "Python 2",
   "language": "python",
   "name": "python2"
  },
  "language_info": {
   "codemirror_mode": {
    "name": "ipython",
    "version": 2
   },
   "file_extension": ".py",
   "mimetype": "text/x-python",
   "name": "python",
   "nbconvert_exporter": "python",
   "pygments_lexer": "ipython2",
   "version": "2.7.13"
  }
 },
 "nbformat": 4,
 "nbformat_minor": 2
}
